{
  "nbformat": 4,
  "nbformat_minor": 0,
  "metadata": {
    "colab": {
      "provenance": []
    },
    "kernelspec": {
      "name": "python3",
      "display_name": "Python 3"
    },
    "language_info": {
      "name": "python"
    }
  },
  "cells": [
    {
      "cell_type": "markdown",
      "source": [
        "Привет, это базовый пример использования библиотеки Signess\n",
        "\n",
        "Для начала нужно установить саму библиотеку:"
      ],
      "metadata": {
        "id": "Ww_i9Zr1rBDo"
      }
    },
    {
      "cell_type": "code",
      "source": [
        "!pip install --upgrade pip\n",
        "!pip install signess"
      ],
      "metadata": {
        "id": "2rEJqHOHq4zq"
      },
      "execution_count": null,
      "outputs": []
    },
    {
      "cell_type": "markdown",
      "source": [
        "Создаем объект `Dataset`, передаем в него объекты `Autograph` и `Document`, в которые передаем нужные для нас аргументы\n",
        "\n",
        "После, генерируем датасет с помощью метода `ds.generate` из документов, которые находятся в `path_to_data`\n",
        "\n",
        "> Датасет `base` берем из `example/datasets` в репозитории [Signess](https://github.com/ElishaFlacon/signess/tree/main/example/datasets), после чего загружаем его к себе на Google Drive\n"
      ],
      "metadata": {
        "id": "SuPnmHu18EmI"
      }
    },
    {
      "cell_type": "code",
      "source": [
        "from signess.dataset import Dataset\n",
        "from inskrib.autograph import Autograph\n",
        "from inskrib.documents import Document\n",
        "\n",
        "autograph = Autograph(size=(380, 380))\n",
        "document = Document()\n",
        "\n",
        "path_to_data = \"/content/drive/MyDrive/datasets/base\"\n",
        "\n",
        "ds= Dataset(autograph, document)\n",
        "\n",
        "path_to_dataset = ds.generate(path_to_data)\n",
        "print(path_to_dataset)"
      ],
      "metadata": {
        "id": "fHzqfS6w3pp8",
        "colab": {
          "base_uri": "https://localhost:8080/"
        },
        "outputId": "79aafcc2-bef9-4027-ad44-f4af8e4923a0"
      },
      "execution_count": 21,
      "outputs": [
        {
          "output_type": "stream",
          "name": "stdout",
          "text": [
            "Process Temp Files: |█████████████████████████| 100.0% \n",
            "Process Authograph: |█████████████████████████| 100.0% \n",
            "Temp Directory Removed\n",
            "./result/dataset.npz\n"
          ]
        }
      ]
    },
    {
      "cell_type": "markdown",
      "source": [
        "Получаем путь `path_to_dataset` до `.npz` файла с готовым датасетом"
      ],
      "metadata": {
        "id": "G90cqaCH9tdZ"
      }
    },
    {
      "cell_type": "markdown",
      "source": [
        "Создаем объект нейронной сети `FedotCNN`"
      ],
      "metadata": {
        "id": "Iusr7cOl9zQU"
      }
    },
    {
      "cell_type": "code",
      "source": [
        "from signess.network import FedotCNN\n",
        "\n",
        "network = FedotCNN()"
      ],
      "metadata": {
        "id": "RtPjb5519LCh"
      },
      "execution_count": 22,
      "outputs": []
    },
    {
      "cell_type": "markdown",
      "source": [
        "Подготавливаем датасет для нейронной сети, в метод `network.load_dataset` передаем полученный путь до датасета\n"
      ],
      "metadata": {
        "id": "Ja7XyAsu8Dga"
      }
    },
    {
      "cell_type": "code",
      "source": [
        "dataset = network.load_dataset(path_to_dataset)"
      ],
      "metadata": {
        "id": "rMOiCw18-Mva"
      },
      "execution_count": 23,
      "outputs": []
    },
    {
      "cell_type": "markdown",
      "source": [
        "Обучаем модель, в метод `network.train` передаем датасет и количество эпох"
      ],
      "metadata": {
        "id": "dzcud51D-P0J"
      }
    },
    {
      "cell_type": "code",
      "source": [
        "network.train(dataset, 5)"
      ],
      "metadata": {
        "id": "TPBiFL-S-gQ7"
      },
      "execution_count": null,
      "outputs": []
    },
    {
      "cell_type": "markdown",
      "source": [
        "Делаем предсказания с помощью обученной модели для готового датасета, для этого в метод `network.predict` передадим датасет"
      ],
      "metadata": {
        "id": "YpCm2ifW-oib"
      }
    },
    {
      "cell_type": "code",
      "source": [
        "predicts = network.predict(dataset)\n",
        "print(predicts)"
      ],
      "metadata": {
        "id": "KFn49JUD_FAu"
      },
      "execution_count": null,
      "outputs": []
    },
    {
      "cell_type": "markdown",
      "source": [
        "Получаем результат предсказаний"
      ],
      "metadata": {
        "id": "uYxG3sDL_ir7"
      }
    },
    {
      "cell_type": "markdown",
      "source": [
        "Теперь сделаем предсказание (классификацию) для одного изображения\n",
        "\n",
        "С помощью `autograph.get_clear_autograph` получаем чистую подпись из документа, передаем в этот метод путь до документа `path_to_picture`\n",
        "\n",
        "После чего вызываем `network.classify`, передаем путь до обработанной подписи и датасет"
      ],
      "metadata": {
        "id": "QVY7eeJz-1bo"
      }
    },
    {
      "cell_type": "code",
      "source": [
        "import os\n",
        "import cv2\n",
        "\n",
        "temp_path = \"/content/temp.png\"\n",
        "path_to_picture = \"/content/drive/MyDrive/datasets/base/person_1/KUG-na-2023-2024-uch.god-IPTI-ot-07.06.2023_1169.png\"\n",
        "\n",
        "picture = autograph.get_clear_autograph(path_to_picture)\n",
        "cv2.imwrite(temp_path, picture)\n",
        "\n",
        "classify = network.classify(temp_path, path_to_dataset)\n",
        "os.remove(temp_path)\n",
        "\n",
        "classify = classify.tolist()\n",
        "classify_class = classify[0].index(max(classify[0])) + 1\n",
        "\n",
        "print(f\"classify: {classify}\")\n",
        "print(f\"classify_class: {classify_class}\")"
      ],
      "metadata": {
        "id": "2Z2-vpNl_XqG"
      },
      "execution_count": null,
      "outputs": []
    },
    {
      "cell_type": "markdown",
      "source": [
        "Получаем предсказание индекса класса, к которому относится это изображение\n",
        "\n",
        "В файле `result/persons.csv` есть класс и его индекс"
      ],
      "metadata": {
        "id": "MEeA-g8IAGLx"
      }
    },
    {
      "cell_type": "markdown",
      "source": [
        "Сохраняем модель, в метод `network.save` передаем путь сохранения модели `path_to_save`"
      ],
      "metadata": {
        "id": "TofIDDD6ARKC"
      }
    },
    {
      "cell_type": "code",
      "source": [
        "path_to_save = \"./model\"\n",
        "network.save(path_to_save)"
      ],
      "metadata": {
        "id": "pDtnmW7LAd9o"
      },
      "execution_count": null,
      "outputs": []
    },
    {
      "cell_type": "markdown",
      "source": [
        "Теперь загрузим сохраненную модель с помощью метода `new_network.load` и после загрузки мы сможем ее использовать\n",
        "\n",
        "> Работает только с версии Fedot >= 0.7.3\n",
        "\n"
      ],
      "metadata": {
        "id": "DCVWuk80AjTF"
      }
    },
    {
      "cell_type": "code",
      "source": [
        "new_network = FedotCNN()\n",
        "new_network.load(path_to_save)"
      ],
      "metadata": {
        "id": "_JASdLVrA1aK"
      },
      "execution_count": null,
      "outputs": []
    },
    {
      "cell_type": "markdown",
      "source": [
        "Это был весь базовый функционал Signess\n",
        "\n",
        "Более расширенное использование можно найти в репозитории [Signess App](https://https://github.com/ElishaFlacon/signess-app)"
      ],
      "metadata": {
        "id": "7C6gSxWlA5ZZ"
      }
    }
  ]
}